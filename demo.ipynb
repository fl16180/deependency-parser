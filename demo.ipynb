{
 "cells": [
  {
   "cell_type": "code",
   "execution_count": 1,
   "id": "eecb61ca-77d8-4a91-8a4e-0f0e42e6864e",
   "metadata": {},
   "outputs": [],
   "source": [
    "import numpy as np\n",
    "import pandas as pd\n",
    "\n",
    "%load_ext autoreload\n",
    "%autoreload 2\n",
    "\n",
    "with open('./data/en_ewt-ud-train.conllu') as f:\n",
    "    lines = f.readlines()\n",
    "    \n",
    "with open('./data/en_ewt-ud-dev.conllu') as f:\n",
    "    lines_dev = f.readlines()\n"
   ]
  },
  {
   "cell_type": "code",
   "execution_count": 2,
   "id": "12efecc4-3f2c-455a-893e-91cf7979440f",
   "metadata": {},
   "outputs": [],
   "source": [
    "from dataset import read_syntax_tree\n",
    "\n",
    "df = read_syntax_tree(lines)"
   ]
  },
  {
   "cell_type": "code",
   "execution_count": 3,
   "id": "8cce7553-283b-43f8-acd9-998a76563ebc",
   "metadata": {},
   "outputs": [
    {
     "data": {
      "text/html": [
       "<div>\n",
       "<style scoped>\n",
       "    .dataframe tbody tr th:only-of-type {\n",
       "        vertical-align: middle;\n",
       "    }\n",
       "\n",
       "    .dataframe tbody tr th {\n",
       "        vertical-align: top;\n",
       "    }\n",
       "\n",
       "    .dataframe thead th {\n",
       "        text-align: right;\n",
       "    }\n",
       "</style>\n",
       "<table border=\"1\" class=\"dataframe\">\n",
       "  <thead>\n",
       "    <tr style=\"text-align: right;\">\n",
       "      <th></th>\n",
       "      <th>sentence</th>\n",
       "      <th>pos</th>\n",
       "      <th>head</th>\n",
       "      <th>deprel</th>\n",
       "    </tr>\n",
       "  </thead>\n",
       "  <tbody>\n",
       "    <tr>\n",
       "      <th>0</th>\n",
       "      <td>[Al, -, Zaman, :, American, forces, killed, Sh...</td>\n",
       "      <td>[NNP, HYPH, NNP, :, JJ, NNS, VBD, NNP, NNP, NN...</td>\n",
       "      <td>[0, 1, 1, 1, 6, 7, 1, 7, 8, 8, 8, 8, 8, 15, 8,...</td>\n",
       "      <td>[root, punct, flat, punct, amod, nsubj, parata...</td>\n",
       "    </tr>\n",
       "    <tr>\n",
       "      <th>1</th>\n",
       "      <td>[[, This, killing, of, a, respected, cleric, w...</td>\n",
       "      <td>[-LRB-, DT, NN, IN, DT, JJ, NN, MD, VB, VBG, P...</td>\n",
       "      <td>[10, 3, 10, 7, 7, 7, 3, 10, 10, 0, 10, 10, 14,...</td>\n",
       "      <td>[punct, det, nsubj, case, det, amod, nmod, aux...</td>\n",
       "    </tr>\n",
       "    <tr>\n",
       "      <th>2</th>\n",
       "      <td>[DPA, :, Iraqi, authorities, announced, that, ...</td>\n",
       "      <td>[NNP, :, JJ, NNS, VBD, IN, PRP, VBD, VBN, RP, ...</td>\n",
       "      <td>[0, 1, 4, 5, 1, 9, 9, 9, 5, 9, 13, 13, 9, 13, ...</td>\n",
       "      <td>[root, punct, amod, nsubj, parataxis, mark, ns...</td>\n",
       "    </tr>\n",
       "    <tr>\n",
       "      <th>3</th>\n",
       "      <td>[Two, of, them, were, being, run, by, 2, offic...</td>\n",
       "      <td>[CD, IN, PRP, VBD, VBG, VBN, IN, CD, NNS, IN, ...</td>\n",
       "      <td>[6, 3, 1, 6, 6, 0, 9, 9, 6, 12, 12, 9, 15, 15,...</td>\n",
       "      <td>[nsubj:pass, case, nmod, aux, aux:pass, root, ...</td>\n",
       "    </tr>\n",
       "    <tr>\n",
       "      <th>4</th>\n",
       "      <td>[The, MoI, in, Iraq, is, equivalent, to, the, ...</td>\n",
       "      <td>[DT, NNP, IN, NNP, VBZ, JJ, IN, DT, NNP, NNP, ...</td>\n",
       "      <td>[2, 6, 4, 2, 6, 0, 10, 10, 10, 6, 6, 17, 15, 1...</td>\n",
       "      <td>[det, nsubj, case, nmod, cop, root, case, det,...</td>\n",
       "    </tr>\n",
       "  </tbody>\n",
       "</table>\n",
       "</div>"
      ],
      "text/plain": [
       "                                            sentence  \\\n",
       "0  [Al, -, Zaman, :, American, forces, killed, Sh...   \n",
       "1  [[, This, killing, of, a, respected, cleric, w...   \n",
       "2  [DPA, :, Iraqi, authorities, announced, that, ...   \n",
       "3  [Two, of, them, were, being, run, by, 2, offic...   \n",
       "4  [The, MoI, in, Iraq, is, equivalent, to, the, ...   \n",
       "\n",
       "                                                 pos  \\\n",
       "0  [NNP, HYPH, NNP, :, JJ, NNS, VBD, NNP, NNP, NN...   \n",
       "1  [-LRB-, DT, NN, IN, DT, JJ, NN, MD, VB, VBG, P...   \n",
       "2  [NNP, :, JJ, NNS, VBD, IN, PRP, VBD, VBN, RP, ...   \n",
       "3  [CD, IN, PRP, VBD, VBG, VBN, IN, CD, NNS, IN, ...   \n",
       "4  [DT, NNP, IN, NNP, VBZ, JJ, IN, DT, NNP, NNP, ...   \n",
       "\n",
       "                                                head  \\\n",
       "0  [0, 1, 1, 1, 6, 7, 1, 7, 8, 8, 8, 8, 8, 15, 8,...   \n",
       "1  [10, 3, 10, 7, 7, 7, 3, 10, 10, 0, 10, 10, 14,...   \n",
       "2  [0, 1, 4, 5, 1, 9, 9, 9, 5, 9, 13, 13, 9, 13, ...   \n",
       "3  [6, 3, 1, 6, 6, 0, 9, 9, 6, 12, 12, 9, 15, 15,...   \n",
       "4  [2, 6, 4, 2, 6, 0, 10, 10, 10, 6, 6, 17, 15, 1...   \n",
       "\n",
       "                                              deprel  \n",
       "0  [root, punct, flat, punct, amod, nsubj, parata...  \n",
       "1  [punct, det, nsubj, case, det, amod, nmod, aux...  \n",
       "2  [root, punct, amod, nsubj, parataxis, mark, ns...  \n",
       "3  [nsubj:pass, case, nmod, aux, aux:pass, root, ...  \n",
       "4  [det, nsubj, case, nmod, cop, root, case, det,...  "
      ]
     },
     "execution_count": 3,
     "metadata": {},
     "output_type": "execute_result"
    }
   ],
   "source": [
    "df.head()"
   ]
  },
  {
   "cell_type": "code",
   "execution_count": 4,
   "id": "22daaba9-e910-4ba6-9191-3277fa2aa17e",
   "metadata": {},
   "outputs": [],
   "source": [
    "from data_structures import Vocab, TwoStack, RelationGraph\n"
   ]
  },
  {
   "cell_type": "code",
   "execution_count": null,
   "id": "180507a7-27f9-4ae4-988a-ab88dc610cd7",
   "metadata": {},
   "outputs": [],
   "source": []
  },
  {
   "cell_type": "code",
   "execution_count": 6,
   "id": "e6972e59-40c4-4491-b5ee-bedc8af5288b",
   "metadata": {},
   "outputs": [],
   "source": [
    "word_vocab = Vocab(min_freq=10).build(df['sentence'].tolist())\n",
    "pos_vocab = Vocab(min_freq=1).build(df['pos'].tolist())\n",
    "deprel_labels = Vocab(min_freq=1).build(df['deprel'].tolist())"
   ]
  },
  {
   "cell_type": "code",
   "execution_count": null,
   "id": "b7b552cd-7676-4ade-967d-bdcc40baf331",
   "metadata": {},
   "outputs": [],
   "source": []
  },
  {
   "cell_type": "code",
   "execution_count": null,
   "id": "d558a1f8-bb35-4b83-bd8b-36d143b56e64",
   "metadata": {},
   "outputs": [],
   "source": []
  },
  {
   "cell_type": "code",
   "execution_count": 71,
   "id": "0526eea9-233b-4a4b-9985-1a8ccbcfd993",
   "metadata": {},
   "outputs": [
    {
     "data": {
      "text/plain": [
       "tensor([[[ 0.0291,  0.3924],\n",
       "         [-0.6424,  0.3659],\n",
       "         [ 0.0710,  0.1849]],\n",
       "\n",
       "        [[ 0.0291,  0.3924],\n",
       "         [ 0.0291,  0.3924],\n",
       "         [ 0.0710,  0.1849]]], grad_fn=<EmbeddingBackward0>)"
      ]
     },
     "execution_count": 71,
     "metadata": {},
     "output_type": "execute_result"
    }
   ],
   "source": [
    "import torch.nn as nn\n",
    "\n",
    "emb = nn.Embedding(len(word_vocab), 2)\n",
    "emb(torch.tensor([[1, 2, 3], [1, 1, 3]]))\n"
   ]
  },
  {
   "cell_type": "code",
   "execution_count": 24,
   "id": "b1f6e478-aadf-4ed9-98f9-d606cec3bde4",
   "metadata": {},
   "outputs": [],
   "source": [
    "def word_map(sentence):\n",
    "    idx_to_word = {0: 'root'}\n",
    "    for i, word in enumerate(sentence):\n",
    "        idx_to_word[i + 1] = word\n",
    "    return idx_to_word\n",
    "\n",
    "# word_map(sentence)"
   ]
  },
  {
   "cell_type": "code",
   "execution_count": 103,
   "id": "3885bead-daf6-4845-a2aa-8e1caee1796b",
   "metadata": {},
   "outputs": [],
   "source": [
    "import copy"
   ]
  },
  {
   "cell_type": "code",
   "execution_count": 5,
   "id": "41550325-6fdd-4e82-8ab2-2042bf3d781a",
   "metadata": {},
   "outputs": [],
   "source": [
    "# example from SLP3 textbook chapter 14\n",
    "\n",
    "sentence = ['book', 'me', 'the', 'morning', 'flight']\n",
    "# sentence = ['book', 'the', 'flight', 'through', 'houston']\n",
    "\n",
    "head = [0, 1, 5, 5, 1]\n",
    "\n",
    "deprel = [1, 2, 3, 4, 5]\n",
    "\n",
    "target = ['shift', 'shift', 'right-arc', 'shift', 'shift', 'shift', 'left-arc', 'left-arc', 'right-arc', 'right-arc']"
   ]
  },
  {
   "cell_type": "code",
   "execution_count": 15,
   "id": "fcbec6e3-a4e5-4652-b22f-b5711a55ecd2",
   "metadata": {},
   "outputs": [],
   "source": [
    "from utils import unravel_sentence\n",
    "from data_structures import *\n",
    "import copy"
   ]
  },
  {
   "cell_type": "code",
   "execution_count": 16,
   "id": "505089f3-def9-4fdd-9c3c-29dd77fe3448",
   "metadata": {},
   "outputs": [],
   "source": [
    "# # df.iloc[4]['sentence'], df.iloc[4]['head'], df.iloc[4]['deprel']\n",
    "# df.iloc[0]['head']\n"
   ]
  },
  {
   "cell_type": "code",
   "execution_count": 17,
   "id": "4972cad3-36f1-4903-a236-2ce2cd47cbb3",
   "metadata": {},
   "outputs": [],
   "source": [
    "def unravel_sentence(sentence, head, deprel):\n",
    "\n",
    "    true_graph = RelationGraph(len(sentence))\n",
    "    true_graph.set_true_labels(head, deprel)\n",
    "\n",
    "    stack = TwoStack()\n",
    "    word_list = Buffer(len(sentence))\n",
    "    graph = RelationGraph(len(sentence))\n",
    "\n",
    "    train_states = []\n",
    "    train_targets = []\n",
    "\n",
    "    # add root and first token\n",
    "    stack.add(0)\n",
    "\n",
    "    while stack:\n",
    "        state = (copy.deepcopy(stack), copy.deepcopy(word_list), copy.deepcopy(graph))\n",
    "\n",
    "        if len(stack) == 1:\n",
    "            if len(word_list) > 0:\n",
    "                stack.add(word_list.pop(0))\n",
    "                target = 'shift'\n",
    "            else:\n",
    "                stack.pop1()\n",
    "                target = 'done'\n",
    "        else:\n",
    "            # check for left-arc\n",
    "            if true_graph.contains(stack.view1(), stack.view2()):\n",
    "                graph.add_relation(stack.view1(), stack.view2())\n",
    "                stack.pop2()\n",
    "                target = 'left-arc'\n",
    "\n",
    "            elif true_graph.contains(stack.view2(), stack.view1()) and \\\n",
    "                    all([graph.contains(stack.view1(), child) for child in true_graph.get_children(stack.view1())]):\n",
    "                graph.add_relation(stack.view2(), stack.view1())\n",
    "                stack.pop1()\n",
    "                target = 'right-arc'\n",
    "\n",
    "            else:\n",
    "                stack.add(word_list.pop(0))\n",
    "                target = 'shift'\n",
    "\n",
    "        train_states.append(state)\n",
    "        train_targets.append(target)\n",
    "\n",
    "    return train_states, train_targets, graph, true_graph\n",
    "\n",
    "train_states, train_targets, graph, true_graph = unravel_sentence(sentence, head, deprel)"
   ]
  },
  {
   "cell_type": "code",
   "execution_count": 20,
   "id": "6f27efd4-6809-44fb-ab26-9702eb02f364",
   "metadata": {},
   "outputs": [
    {
     "data": {
      "text/plain": [
       "array([[0., 1., 0., 0., 0., 0.],\n",
       "       [0., 0., 1., 0., 0., 1.],\n",
       "       [0., 0., 0., 0., 0., 0.],\n",
       "       [0., 0., 0., 0., 0., 0.],\n",
       "       [0., 0., 0., 0., 0., 0.],\n",
       "       [0., 0., 0., 1., 1., 0.]])"
      ]
     },
     "execution_count": 20,
     "metadata": {},
     "output_type": "execute_result"
    }
   ],
   "source": [
    "graph.mat"
   ]
  },
  {
   "cell_type": "code",
   "execution_count": 22,
   "id": "0caa5197-559c-4a63-bb04-e7d3027e3fc8",
   "metadata": {},
   "outputs": [
    {
     "data": {
      "text/plain": [
       "[0, 1, 5, 5, 1]"
      ]
     },
     "execution_count": 22,
     "metadata": {},
     "output_type": "execute_result"
    }
   ],
   "source": [
    "head"
   ]
  },
  {
   "cell_type": "code",
   "execution_count": 21,
   "id": "21b4dac5-b6f2-45a0-8b53-f1cd917221b5",
   "metadata": {},
   "outputs": [
    {
     "data": {
      "text/plain": [
       "array([[0., 1., 0., 0., 0., 0.],\n",
       "       [0., 0., 1., 0., 0., 1.],\n",
       "       [0., 0., 0., 0., 0., 0.],\n",
       "       [0., 0., 0., 0., 0., 0.],\n",
       "       [0., 0., 0., 0., 0., 0.],\n",
       "       [0., 0., 0., 1., 1., 0.]])"
      ]
     },
     "execution_count": 21,
     "metadata": {},
     "output_type": "execute_result"
    }
   ],
   "source": [
    "true_graph.mat"
   ]
  },
  {
   "cell_type": "code",
   "execution_count": 24,
   "id": "f19cd4aa-5289-4c3f-840a-e99e392269df",
   "metadata": {},
   "outputs": [
    {
     "data": {
      "text/plain": [
       "(array([0, 1, 1, 5, 5]), array([1, 2, 5, 3, 4]))"
      ]
     },
     "execution_count": 24,
     "metadata": {},
     "output_type": "execute_result"
    }
   ],
   "source": [
    "import torch\n",
    "np.where(graph.mat > 0)"
   ]
  },
  {
   "cell_type": "code",
   "execution_count": 27,
   "id": "b5cc9ded-83e3-4d98-9494-a2b02228eccc",
   "metadata": {},
   "outputs": [
    {
     "data": {
      "text/plain": [
       "tensor([[0, 1],\n",
       "        [1, 2],\n",
       "        [1, 5],\n",
       "        [5, 3],\n",
       "        [5, 4]])"
      ]
     },
     "execution_count": 27,
     "metadata": {},
     "output_type": "execute_result"
    }
   ],
   "source": [
    "torch.nonzero(torch.tensor(graph.mat))"
   ]
  },
  {
   "cell_type": "code",
   "execution_count": 43,
   "id": "481b68d8-ff4a-480f-b817-58747586ee35",
   "metadata": {},
   "outputs": [],
   "source": [
    "mat = torch.tensor(graph.mat)\n",
    "preds = torch.zeros(len(head))\n",
    "for ix in range(len(preds)):\n",
    "    nonzero = torch.where(mat[:, ix+1] != 0)[0]\n",
    "    if len(nonzero) == 0:\n",
    "        preds[ix] = -1\n",
    "    else:\n",
    "        preds[ix] = nonzero.item()\n",
    "    # print(torch.where(mat[:, ix+1] > 0)[0].item())"
   ]
  },
  {
   "cell_type": "code",
   "execution_count": 46,
   "id": "264bc935-7eda-460f-841e-cb8332b75071",
   "metadata": {},
   "outputs": [
    {
     "data": {
      "text/plain": [
       "tensor([True, True, True, True, True])"
      ]
     },
     "execution_count": 46,
     "metadata": {},
     "output_type": "execute_result"
    }
   ],
   "source": [
    "preds == torch.tensor(head)"
   ]
  },
  {
   "cell_type": "code",
   "execution_count": 19,
   "id": "052e8bab-fb2e-436f-a260-d122f9fb33c0",
   "metadata": {},
   "outputs": [
    {
     "data": {
      "text/plain": [
       "[707, 1391, 1970, 1432, 1082]"
      ]
     },
     "execution_count": 19,
     "metadata": {},
     "output_type": "execute_result"
    }
   ],
   "source": [
    "word_vocab.transform(sentence)"
   ]
  },
  {
   "cell_type": "code",
   "execution_count": 17,
   "id": "1697055c-5233-4d88-94fe-bb429534eb13",
   "metadata": {},
   "outputs": [
    {
     "data": {
      "text/plain": [
       "['shift',\n",
       " 'shift',\n",
       " 'right-arc',\n",
       " 'shift',\n",
       " 'shift',\n",
       " 'shift',\n",
       " 'left-arc',\n",
       " 'left-arc',\n",
       " 'right-arc',\n",
       " 'right-arc',\n",
       " 'done']"
      ]
     },
     "execution_count": 17,
     "metadata": {},
     "output_type": "execute_result"
    }
   ],
   "source": [
    "train_targets"
   ]
  },
  {
   "cell_type": "code",
   "execution_count": null,
   "id": "97045bb3-5487-4a9e-88f0-bd9dcb885641",
   "metadata": {},
   "outputs": [],
   "source": []
  },
  {
   "cell_type": "code",
   "execution_count": null,
   "id": "df9dcb77-3e82-42be-bc03-d16db94526bd",
   "metadata": {},
   "outputs": [],
   "source": []
  },
  {
   "cell_type": "code",
   "execution_count": 101,
   "id": "3991312b-6447-4803-9f82-52297eb519df",
   "metadata": {},
   "outputs": [],
   "source": [
    "\n",
    "def unravel_sentence(sentence, head, deprel, verbose=False):\n",
    "\n",
    "    true_graph = RelationGraph(len(sentence))\n",
    "    true_graph.set_true_labels(head, deprel)\n",
    "\n",
    "    stack = TwoStack()\n",
    "    word_list = [x + 1 for x in range(len(sentence))]\n",
    "    graph = RelationGraph(len(sentence))\n",
    "\n",
    "    idx_to_word = word_map(sentence)\n",
    "\n",
    "    train_states = []\n",
    "    train_targets = []\n",
    "\n",
    "    # add root and first token\n",
    "    stack.add(0)\n",
    "\n",
    "    while stack:\n",
    "        state = (copy.deepcopy(stack), copy.copy(word_list), copy.deepcopy(graph))\n",
    "        \n",
    "        if verbose:\n",
    "            print(stack, word_list, graph)\n",
    "\n",
    "        if len(stack) == 1:\n",
    "            if len(word_list) > 0:\n",
    "                stack.add(word_list.pop(0))\n",
    "                target = 'shift'\n",
    "            else:\n",
    "                stack.pop1()\n",
    "                target = 'done'\n",
    "        else:\n",
    "            # check for left-arc\n",
    "            if true_graph.contains(stack.view1(), stack.view2()):\n",
    "                graph.add_relation(stack.view1(), stack.view2())\n",
    "                stack.pop2()\n",
    "                target = 'left-arc'\n",
    "\n",
    "            elif true_graph.contains(stack.view2(), stack.view1()) and \\\n",
    "                    all([graph.contains(stack.view1(), child) for child in true_graph.get_children(stack.view1())]):\n",
    "                graph.add_relation(stack.view2(), stack.view1())\n",
    "                stack.pop1()\n",
    "                target = 'right-arc'\n",
    "\n",
    "            else:\n",
    "                stack.add(word_list.pop(0))\n",
    "                target = 'shift'\n",
    "\n",
    "        train_states.append(state)\n",
    "        train_targets.append(target)\n",
    "    return train_states, train_targets, graph, true_graph\n"
   ]
  },
  {
   "cell_type": "code",
   "execution_count": 245,
   "id": "5b39f66f-1540-407c-9e32-9a13acfc658d",
   "metadata": {},
   "outputs": [
    {
     "name": "stdout",
     "output_type": "stream",
     "text": [
      "[0] [1, 2, 3, 4, 5] {}\n",
      "[0, 1] [2, 3, 4, 5] {}\n",
      "[0, 1, 2] [3, 4, 5] {}\n",
      "[0, 1] [3, 4, 5] {1->2,}\n",
      "[0, 1, 3] [4, 5] {1->2,}\n",
      "[0, 1, 3, 4] [5] {1->2,}\n",
      "[0, 1, 3, 4, 5] [] {1->2,}\n",
      "[0, 1, 3, 5] [] {1->2,5->4,}\n",
      "[0, 1, 5] [] {1->2,5->3,5->4,}\n",
      "[0, 1] [] {1->2,1->5,5->3,5->4,}\n",
      "[0] [] {0->1,1->2,1->5,5->3,5->4,}\n"
     ]
    }
   ],
   "source": [
    "unravel_sentence(sentence, head, deprel)"
   ]
  },
  {
   "cell_type": "code",
   "execution_count": 269,
   "id": "7e1d6fff-8c06-41a4-8c4a-6780d478fe8c",
   "metadata": {},
   "outputs": [
    {
     "name": "stdout",
     "output_type": "stream",
     "text": [
      "[0] [1, 2, 3, 4, 5, 6, 7, 8, 9, 10, 11, 12, 13, 14, 15, 16, 17, 18, 19, 20, 21, 22, 23, 24, 25, 26, 27, 28, 29, 30, 31, 32, 33, 34, 35, 36] {}\n",
      "[0, 1] [2, 3, 4, 5, 6, 7, 8, 9, 10, 11, 12, 13, 14, 15, 16, 17, 18, 19, 20, 21, 22, 23, 24, 25, 26, 27, 28, 29, 30, 31, 32, 33, 34, 35, 36] {}\n",
      "[0, 1, 2] [3, 4, 5, 6, 7, 8, 9, 10, 11, 12, 13, 14, 15, 16, 17, 18, 19, 20, 21, 22, 23, 24, 25, 26, 27, 28, 29, 30, 31, 32, 33, 34, 35, 36] {}\n",
      "[0, 2] [3, 4, 5, 6, 7, 8, 9, 10, 11, 12, 13, 14, 15, 16, 17, 18, 19, 20, 21, 22, 23, 24, 25, 26, 27, 28, 29, 30, 31, 32, 33, 34, 35, 36] {2->1,}\n",
      "[0, 2, 3] [4, 5, 6, 7, 8, 9, 10, 11, 12, 13, 14, 15, 16, 17, 18, 19, 20, 21, 22, 23, 24, 25, 26, 27, 28, 29, 30, 31, 32, 33, 34, 35, 36] {2->1,}\n",
      "[0, 2, 3, 4] [5, 6, 7, 8, 9, 10, 11, 12, 13, 14, 15, 16, 17, 18, 19, 20, 21, 22, 23, 24, 25, 26, 27, 28, 29, 30, 31, 32, 33, 34, 35, 36] {2->1,}\n",
      "[0, 2, 4] [5, 6, 7, 8, 9, 10, 11, 12, 13, 14, 15, 16, 17, 18, 19, 20, 21, 22, 23, 24, 25, 26, 27, 28, 29, 30, 31, 32, 33, 34, 35, 36] {2->1,4->3,}\n",
      "[0, 2] [5, 6, 7, 8, 9, 10, 11, 12, 13, 14, 15, 16, 17, 18, 19, 20, 21, 22, 23, 24, 25, 26, 27, 28, 29, 30, 31, 32, 33, 34, 35, 36] {2->1,2->4,4->3,}\n",
      "[0, 2, 5] [6, 7, 8, 9, 10, 11, 12, 13, 14, 15, 16, 17, 18, 19, 20, 21, 22, 23, 24, 25, 26, 27, 28, 29, 30, 31, 32, 33, 34, 35, 36] {2->1,2->4,4->3,}\n",
      "[0, 2, 5, 6] [7, 8, 9, 10, 11, 12, 13, 14, 15, 16, 17, 18, 19, 20, 21, 22, 23, 24, 25, 26, 27, 28, 29, 30, 31, 32, 33, 34, 35, 36] {2->1,2->4,4->3,}\n",
      "[0, 2, 6] [7, 8, 9, 10, 11, 12, 13, 14, 15, 16, 17, 18, 19, 20, 21, 22, 23, 24, 25, 26, 27, 28, 29, 30, 31, 32, 33, 34, 35, 36] {2->1,2->4,4->3,6->5,}\n",
      "[0, 6] [7, 8, 9, 10, 11, 12, 13, 14, 15, 16, 17, 18, 19, 20, 21, 22, 23, 24, 25, 26, 27, 28, 29, 30, 31, 32, 33, 34, 35, 36] {2->1,2->4,4->3,6->2,6->5,}\n",
      "[0, 6, 7] [8, 9, 10, 11, 12, 13, 14, 15, 16, 17, 18, 19, 20, 21, 22, 23, 24, 25, 26, 27, 28, 29, 30, 31, 32, 33, 34, 35, 36] {2->1,2->4,4->3,6->2,6->5,}\n",
      "[0, 6, 7, 8] [9, 10, 11, 12, 13, 14, 15, 16, 17, 18, 19, 20, 21, 22, 23, 24, 25, 26, 27, 28, 29, 30, 31, 32, 33, 34, 35, 36] {2->1,2->4,4->3,6->2,6->5,}\n",
      "[0, 6, 7, 8, 9] [10, 11, 12, 13, 14, 15, 16, 17, 18, 19, 20, 21, 22, 23, 24, 25, 26, 27, 28, 29, 30, 31, 32, 33, 34, 35, 36] {2->1,2->4,4->3,6->2,6->5,}\n",
      "[0, 6, 7, 8, 9, 10] [11, 12, 13, 14, 15, 16, 17, 18, 19, 20, 21, 22, 23, 24, 25, 26, 27, 28, 29, 30, 31, 32, 33, 34, 35, 36] {2->1,2->4,4->3,6->2,6->5,}\n",
      "[0, 6, 7, 8, 10] [11, 12, 13, 14, 15, 16, 17, 18, 19, 20, 21, 22, 23, 24, 25, 26, 27, 28, 29, 30, 31, 32, 33, 34, 35, 36] {2->1,2->4,4->3,6->2,6->5,10->9,}\n",
      "[0, 6, 7, 10] [11, 12, 13, 14, 15, 16, 17, 18, 19, 20, 21, 22, 23, 24, 25, 26, 27, 28, 29, 30, 31, 32, 33, 34, 35, 36] {2->1,2->4,4->3,6->2,6->5,10->8,10->9,}\n",
      "[0, 6, 10] [11, 12, 13, 14, 15, 16, 17, 18, 19, 20, 21, 22, 23, 24, 25, 26, 27, 28, 29, 30, 31, 32, 33, 34, 35, 36] {2->1,2->4,4->3,6->2,6->5,10->7,10->8,10->9,}\n",
      "[0, 6] [11, 12, 13, 14, 15, 16, 17, 18, 19, 20, 21, 22, 23, 24, 25, 26, 27, 28, 29, 30, 31, 32, 33, 34, 35, 36] {2->1,2->4,4->3,6->2,6->5,6->10,10->7,10->8,10->9,}\n",
      "[0, 6, 11] [12, 13, 14, 15, 16, 17, 18, 19, 20, 21, 22, 23, 24, 25, 26, 27, 28, 29, 30, 31, 32, 33, 34, 35, 36] {2->1,2->4,4->3,6->2,6->5,6->10,10->7,10->8,10->9,}\n",
      "[0, 6] [12, 13, 14, 15, 16, 17, 18, 19, 20, 21, 22, 23, 24, 25, 26, 27, 28, 29, 30, 31, 32, 33, 34, 35, 36] {2->1,2->4,4->3,6->2,6->5,6->10,6->11,10->7,10->8,10->9,}\n",
      "[0, 6, 12] [13, 14, 15, 16, 17, 18, 19, 20, 21, 22, 23, 24, 25, 26, 27, 28, 29, 30, 31, 32, 33, 34, 35, 36] {2->1,2->4,4->3,6->2,6->5,6->10,6->11,10->7,10->8,10->9,}\n",
      "[0, 6, 12, 13] [14, 15, 16, 17, 18, 19, 20, 21, 22, 23, 24, 25, 26, 27, 28, 29, 30, 31, 32, 33, 34, 35, 36] {2->1,2->4,4->3,6->2,6->5,6->10,6->11,10->7,10->8,10->9,}\n",
      "[0, 6, 12, 13, 14] [15, 16, 17, 18, 19, 20, 21, 22, 23, 24, 25, 26, 27, 28, 29, 30, 31, 32, 33, 34, 35, 36] {2->1,2->4,4->3,6->2,6->5,6->10,6->11,10->7,10->8,10->9,}\n",
      "[0, 6, 12, 13, 14, 15] [16, 17, 18, 19, 20, 21, 22, 23, 24, 25, 26, 27, 28, 29, 30, 31, 32, 33, 34, 35, 36] {2->1,2->4,4->3,6->2,6->5,6->10,6->11,10->7,10->8,10->9,}\n",
      "[0, 6, 12, 13, 15] [16, 17, 18, 19, 20, 21, 22, 23, 24, 25, 26, 27, 28, 29, 30, 31, 32, 33, 34, 35, 36] {2->1,2->4,4->3,6->2,6->5,6->10,6->11,10->7,10->8,10->9,15->14,}\n",
      "[0, 6, 12, 15] [16, 17, 18, 19, 20, 21, 22, 23, 24, 25, 26, 27, 28, 29, 30, 31, 32, 33, 34, 35, 36] {2->1,2->4,4->3,6->2,6->5,6->10,6->11,10->7,10->8,10->9,15->13,15->14,}\n",
      "[0, 6, 12, 15, 16] [17, 18, 19, 20, 21, 22, 23, 24, 25, 26, 27, 28, 29, 30, 31, 32, 33, 34, 35, 36] {2->1,2->4,4->3,6->2,6->5,6->10,6->11,10->7,10->8,10->9,15->13,15->14,}\n",
      "[0, 6, 12, 15, 16, 17] [18, 19, 20, 21, 22, 23, 24, 25, 26, 27, 28, 29, 30, 31, 32, 33, 34, 35, 36] {2->1,2->4,4->3,6->2,6->5,6->10,6->11,10->7,10->8,10->9,15->13,15->14,}\n",
      "[0, 6, 12, 15, 17] [18, 19, 20, 21, 22, 23, 24, 25, 26, 27, 28, 29, 30, 31, 32, 33, 34, 35, 36] {2->1,2->4,4->3,6->2,6->5,6->10,6->11,10->7,10->8,10->9,15->13,15->14,17->16,}\n",
      "[0, 6, 12, 15, 17, 18] [19, 20, 21, 22, 23, 24, 25, 26, 27, 28, 29, 30, 31, 32, 33, 34, 35, 36] {2->1,2->4,4->3,6->2,6->5,6->10,6->11,10->7,10->8,10->9,15->13,15->14,17->16,}\n",
      "[0, 6, 12, 15, 17, 18, 19] [20, 21, 22, 23, 24, 25, 26, 27, 28, 29, 30, 31, 32, 33, 34, 35, 36] {2->1,2->4,4->3,6->2,6->5,6->10,6->11,10->7,10->8,10->9,15->13,15->14,17->16,}\n",
      "[0, 6, 12, 15, 17, 18] [20, 21, 22, 23, 24, 25, 26, 27, 28, 29, 30, 31, 32, 33, 34, 35, 36] {2->1,2->4,4->3,6->2,6->5,6->10,6->11,10->7,10->8,10->9,15->13,15->14,17->16,18->19,}\n",
      "[0, 6, 12, 15, 17, 18, 20] [21, 22, 23, 24, 25, 26, 27, 28, 29, 30, 31, 32, 33, 34, 35, 36] {2->1,2->4,4->3,6->2,6->5,6->10,6->11,10->7,10->8,10->9,15->13,15->14,17->16,18->19,}\n",
      "[0, 6, 12, 15, 17, 18] [21, 22, 23, 24, 25, 26, 27, 28, 29, 30, 31, 32, 33, 34, 35, 36] {2->1,2->4,4->3,6->2,6->5,6->10,6->11,10->7,10->8,10->9,15->13,15->14,17->16,18->19,18->20,}\n",
      "[0, 6, 12, 15, 17, 18, 21] [22, 23, 24, 25, 26, 27, 28, 29, 30, 31, 32, 33, 34, 35, 36] {2->1,2->4,4->3,6->2,6->5,6->10,6->11,10->7,10->8,10->9,15->13,15->14,17->16,18->19,18->20,}\n",
      "[0, 6, 12, 15, 17, 18, 21, 22] [23, 24, 25, 26, 27, 28, 29, 30, 31, 32, 33, 34, 35, 36] {2->1,2->4,4->3,6->2,6->5,6->10,6->11,10->7,10->8,10->9,15->13,15->14,17->16,18->19,18->20,}\n",
      "[0, 6, 12, 15, 17, 18, 22] [23, 24, 25, 26, 27, 28, 29, 30, 31, 32, 33, 34, 35, 36] {2->1,2->4,4->3,6->2,6->5,6->10,6->11,10->7,10->8,10->9,15->13,15->14,17->16,18->19,18->20,22->21,}\n",
      "[0, 6, 12, 15, 17, 22] [23, 24, 25, 26, 27, 28, 29, 30, 31, 32, 33, 34, 35, 36] {2->1,2->4,4->3,6->2,6->5,6->10,6->11,10->7,10->8,10->9,15->13,15->14,17->16,18->19,18->20,22->18,22->21,}\n",
      "[0, 6, 12, 15, 17, 22, 23] [24, 25, 26, 27, 28, 29, 30, 31, 32, 33, 34, 35, 36] {2->1,2->4,4->3,6->2,6->5,6->10,6->11,10->7,10->8,10->9,15->13,15->14,17->16,18->19,18->20,22->18,22->21,}\n",
      "[0, 6, 12, 15, 17, 22, 23, 24] [25, 26, 27, 28, 29, 30, 31, 32, 33, 34, 35, 36] {2->1,2->4,4->3,6->2,6->5,6->10,6->11,10->7,10->8,10->9,15->13,15->14,17->16,18->19,18->20,22->18,22->21,}\n",
      "[0, 6, 12, 15, 17, 22, 23, 24, 25] [26, 27, 28, 29, 30, 31, 32, 33, 34, 35, 36] {2->1,2->4,4->3,6->2,6->5,6->10,6->11,10->7,10->8,10->9,15->13,15->14,17->16,18->19,18->20,22->18,22->21,}\n",
      "[0, 6, 12, 15, 17, 22, 23, 24, 25, 26] [27, 28, 29, 30, 31, 32, 33, 34, 35, 36] {2->1,2->4,4->3,6->2,6->5,6->10,6->11,10->7,10->8,10->9,15->13,15->14,17->16,18->19,18->20,22->18,22->21,}\n",
      "[0, 6, 12, 15, 17, 22, 23, 24, 26] [27, 28, 29, 30, 31, 32, 33, 34, 35, 36] {2->1,2->4,4->3,6->2,6->5,6->10,6->11,10->7,10->8,10->9,15->13,15->14,17->16,18->19,18->20,22->18,22->21,26->25,}\n",
      "[0, 6, 12, 15, 17, 22, 23, 26] [27, 28, 29, 30, 31, 32, 33, 34, 35, 36] {2->1,2->4,4->3,6->2,6->5,6->10,6->11,10->7,10->8,10->9,15->13,15->14,17->16,18->19,18->20,22->18,22->21,26->24,26->25,}\n",
      "[0, 6, 12, 15, 17, 22, 26] [27, 28, 29, 30, 31, 32, 33, 34, 35, 36] {2->1,2->4,4->3,6->2,6->5,6->10,6->11,10->7,10->8,10->9,15->13,15->14,17->16,18->19,18->20,22->18,22->21,26->23,26->24,26->25,}\n",
      "[0, 6, 12, 15, 17, 22] [27, 28, 29, 30, 31, 32, 33, 34, 35, 36] {2->1,2->4,4->3,6->2,6->5,6->10,6->11,10->7,10->8,10->9,15->13,15->14,17->16,18->19,18->20,22->18,22->21,22->26,26->23,26->24,26->25,}\n",
      "[0, 6, 12, 15, 17, 22, 27] [28, 29, 30, 31, 32, 33, 34, 35, 36] {2->1,2->4,4->3,6->2,6->5,6->10,6->11,10->7,10->8,10->9,15->13,15->14,17->16,18->19,18->20,22->18,22->21,22->26,26->23,26->24,26->25,}\n",
      "[0, 6, 12, 15, 17, 22, 27, 28] [29, 30, 31, 32, 33, 34, 35, 36] {2->1,2->4,4->3,6->2,6->5,6->10,6->11,10->7,10->8,10->9,15->13,15->14,17->16,18->19,18->20,22->18,22->21,22->26,26->23,26->24,26->25,}\n",
      "[0, 6, 12, 15, 17, 22, 27, 28, 29] [30, 31, 32, 33, 34, 35, 36] {2->1,2->4,4->3,6->2,6->5,6->10,6->11,10->7,10->8,10->9,15->13,15->14,17->16,18->19,18->20,22->18,22->21,22->26,26->23,26->24,26->25,}\n",
      "[0, 6, 12, 15, 17, 22, 27, 28, 29, 30] [31, 32, 33, 34, 35, 36] {2->1,2->4,4->3,6->2,6->5,6->10,6->11,10->7,10->8,10->9,15->13,15->14,17->16,18->19,18->20,22->18,22->21,22->26,26->23,26->24,26->25,}\n",
      "[0, 6, 12, 15, 17, 22, 27, 28, 29, 30, 31] [32, 33, 34, 35, 36] {2->1,2->4,4->3,6->2,6->5,6->10,6->11,10->7,10->8,10->9,15->13,15->14,17->16,18->19,18->20,22->18,22->21,22->26,26->23,26->24,26->25,}\n",
      "[0, 6, 12, 15, 17, 22, 27, 28, 29, 31] [32, 33, 34, 35, 36] {2->1,2->4,4->3,6->2,6->5,6->10,6->11,10->7,10->8,10->9,15->13,15->14,17->16,18->19,18->20,22->18,22->21,22->26,26->23,26->24,26->25,31->30,}\n",
      "[0, 6, 12, 15, 17, 22, 27, 28, 31] [32, 33, 34, 35, 36] {2->1,2->4,4->3,6->2,6->5,6->10,6->11,10->7,10->8,10->9,15->13,15->14,17->16,18->19,18->20,22->18,22->21,22->26,26->23,26->24,26->25,31->29,31->30,}\n",
      "[0, 6, 12, 15, 17, 22, 27, 31] [32, 33, 34, 35, 36] {2->1,2->4,4->3,6->2,6->5,6->10,6->11,10->7,10->8,10->9,15->13,15->14,17->16,18->19,18->20,22->18,22->21,22->26,26->23,26->24,26->25,31->28,31->29,31->30,}\n",
      "[0, 6, 12, 15, 17, 22, 27] [32, 33, 34, 35, 36] {2->1,2->4,4->3,6->2,6->5,6->10,6->11,10->7,10->8,10->9,15->13,15->14,17->16,18->19,18->20,22->18,22->21,22->26,26->23,26->24,26->25,27->31,31->28,31->29,31->30,}\n",
      "[0, 6, 12, 15, 17, 22] [32, 33, 34, 35, 36] {2->1,2->4,4->3,6->2,6->5,6->10,6->11,10->7,10->8,10->9,15->13,15->14,17->16,18->19,18->20,22->18,22->21,22->26,22->27,26->23,26->24,26->25,27->31,31->28,31->29,31->30,}\n",
      "[0, 6, 12, 15, 17, 22, 32] [33, 34, 35, 36] {2->1,2->4,4->3,6->2,6->5,6->10,6->11,10->7,10->8,10->9,15->13,15->14,17->16,18->19,18->20,22->18,22->21,22->26,22->27,26->23,26->24,26->25,27->31,31->28,31->29,31->30,}\n",
      "[0, 6, 12, 15, 17, 22, 32, 33] [34, 35, 36] {2->1,2->4,4->3,6->2,6->5,6->10,6->11,10->7,10->8,10->9,15->13,15->14,17->16,18->19,18->20,22->18,22->21,22->26,22->27,26->23,26->24,26->25,27->31,31->28,31->29,31->30,}\n",
      "[0, 6, 12, 15, 17, 22, 32, 33, 34] [35, 36] {2->1,2->4,4->3,6->2,6->5,6->10,6->11,10->7,10->8,10->9,15->13,15->14,17->16,18->19,18->20,22->18,22->21,22->26,22->27,26->23,26->24,26->25,27->31,31->28,31->29,31->30,}\n",
      "[0, 6, 12, 15, 17, 22, 32, 33, 34, 35] [36] {2->1,2->4,4->3,6->2,6->5,6->10,6->11,10->7,10->8,10->9,15->13,15->14,17->16,18->19,18->20,22->18,22->21,22->26,22->27,26->23,26->24,26->25,27->31,31->28,31->29,31->30,}\n",
      "[0, 6, 12, 15, 17, 22, 32, 33, 35] [36] {2->1,2->4,4->3,6->2,6->5,6->10,6->11,10->7,10->8,10->9,15->13,15->14,17->16,18->19,18->20,22->18,22->21,22->26,22->27,26->23,26->24,26->25,27->31,31->28,31->29,31->30,35->34,}\n",
      "[0, 6, 12, 15, 17, 22, 32, 35] [36] {2->1,2->4,4->3,6->2,6->5,6->10,6->11,10->7,10->8,10->9,15->13,15->14,17->16,18->19,18->20,22->18,22->21,22->26,22->27,26->23,26->24,26->25,27->31,31->28,31->29,31->30,35->33,35->34,}\n",
      "[0, 6, 12, 15, 17, 22, 35] [36] {2->1,2->4,4->3,6->2,6->5,6->10,6->11,10->7,10->8,10->9,15->13,15->14,17->16,18->19,18->20,22->18,22->21,22->26,22->27,26->23,26->24,26->25,27->31,31->28,31->29,31->30,35->32,35->33,35->34,}\n",
      "[0, 6, 12, 15, 17, 22] [36] {2->1,2->4,4->3,6->2,6->5,6->10,6->11,10->7,10->8,10->9,15->13,15->14,17->16,18->19,18->20,22->18,22->21,22->26,22->27,22->35,26->23,26->24,26->25,27->31,31->28,31->29,31->30,35->32,35->33,35->34,}\n",
      "[0, 6, 12, 15, 17] [36] {2->1,2->4,4->3,6->2,6->5,6->10,6->11,10->7,10->8,10->9,15->13,15->14,17->16,17->22,18->19,18->20,22->18,22->21,22->26,22->27,22->35,26->23,26->24,26->25,27->31,31->28,31->29,31->30,35->32,35->33,35->34,}\n",
      "[0, 6, 12, 15, 17, 36] [] {2->1,2->4,4->3,6->2,6->5,6->10,6->11,10->7,10->8,10->9,15->13,15->14,17->16,17->22,18->19,18->20,22->18,22->21,22->26,22->27,22->35,26->23,26->24,26->25,27->31,31->28,31->29,31->30,35->32,35->33,35->34,}\n"
     ]
    },
    {
     "ename": "IndexError",
     "evalue": "pop from empty list",
     "output_type": "error",
     "traceback": [
      "\u001b[0;31m---------------------------------------------------------------------------\u001b[0m",
      "\u001b[0;31mIndexError\u001b[0m                                Traceback (most recent call last)",
      "Input \u001b[0;32mIn [269]\u001b[0m, in \u001b[0;36m<cell line: 1>\u001b[0;34m()\u001b[0m\n\u001b[0;32m----> 1\u001b[0m train_states, train_targets, graph, true_graph \u001b[38;5;241m=\u001b[39m \u001b[43munravel_sentence\u001b[49m\u001b[43m(\u001b[49m\u001b[43mdf\u001b[49m\u001b[38;5;241;43m.\u001b[39;49m\u001b[43miloc\u001b[49m\u001b[43m[\u001b[49m\u001b[38;5;241;43m4\u001b[39;49m\u001b[43m]\u001b[49m\u001b[43m[\u001b[49m\u001b[38;5;124;43m'\u001b[39;49m\u001b[38;5;124;43msentence\u001b[39;49m\u001b[38;5;124;43m'\u001b[39;49m\u001b[43m]\u001b[49m\u001b[43m,\u001b[49m\u001b[43m \u001b[49m\u001b[43mdf\u001b[49m\u001b[38;5;241;43m.\u001b[39;49m\u001b[43miloc\u001b[49m\u001b[43m[\u001b[49m\u001b[38;5;241;43m4\u001b[39;49m\u001b[43m]\u001b[49m\u001b[43m[\u001b[49m\u001b[38;5;124;43m'\u001b[39;49m\u001b[38;5;124;43mhead\u001b[39;49m\u001b[38;5;124;43m'\u001b[39;49m\u001b[43m]\u001b[49m\u001b[43m,\u001b[49m\u001b[43m \u001b[49m\u001b[43mdf\u001b[49m\u001b[38;5;241;43m.\u001b[39;49m\u001b[43miloc\u001b[49m\u001b[43m[\u001b[49m\u001b[38;5;241;43m4\u001b[39;49m\u001b[43m]\u001b[49m\u001b[43m[\u001b[49m\u001b[38;5;124;43m'\u001b[39;49m\u001b[38;5;124;43mdeprel\u001b[39;49m\u001b[38;5;124;43m'\u001b[39;49m\u001b[43m]\u001b[49m\u001b[43m)\u001b[49m\n",
      "Input \u001b[0;32mIn [253]\u001b[0m, in \u001b[0;36munravel_sentence\u001b[0;34m(sentence, head, deprel)\u001b[0m\n\u001b[1;32m     41\u001b[0m         target \u001b[38;5;241m=\u001b[39m \u001b[38;5;124m'\u001b[39m\u001b[38;5;124mright-arc\u001b[39m\u001b[38;5;124m'\u001b[39m\n\u001b[1;32m     43\u001b[0m     \u001b[38;5;28;01melse\u001b[39;00m:\n\u001b[0;32m---> 44\u001b[0m         stack\u001b[38;5;241m.\u001b[39madd(\u001b[43mword_list\u001b[49m\u001b[38;5;241;43m.\u001b[39;49m\u001b[43mpop\u001b[49m\u001b[43m(\u001b[49m\u001b[38;5;241;43m0\u001b[39;49m\u001b[43m)\u001b[49m)\n\u001b[1;32m     45\u001b[0m         target \u001b[38;5;241m=\u001b[39m \u001b[38;5;124m'\u001b[39m\u001b[38;5;124mshift\u001b[39m\u001b[38;5;124m'\u001b[39m\n\u001b[1;32m     47\u001b[0m train_states\u001b[38;5;241m.\u001b[39mappend(state)\n",
      "\u001b[0;31mIndexError\u001b[0m: pop from empty list"
     ]
    }
   ],
   "source": [
    "train_states, train_targets, graph, true_graph = unravel_sentence(df.iloc[4]['sentence'], df.iloc[4]['head'], df.iloc[4]['deprel'])"
   ]
  },
  {
   "cell_type": "code",
   "execution_count": 259,
   "id": "49f5daa3-f032-400d-8235-a8766e5cd649",
   "metadata": {},
   "outputs": [
    {
     "name": "stdout",
     "output_type": "stream",
     "text": [
      "{0->1,1->2,1->3,1->4,1->7,1->29,6->5,7->6,7->8,7->18,8->9,8->10,8->11,8->12,8->13,8->15,15->14,18->16,18->17,18->21,21->19,21->20,21->23,21->24,21->28,23->22,28->25,28->26,28->27,}\n"
     ]
    }
   ],
   "source": [
    "print(true_graph)"
   ]
  },
  {
   "cell_type": "code",
   "execution_count": 270,
   "id": "fb786c40-d649-4516-9333-4088e22ee231",
   "metadata": {},
   "outputs": [
    {
     "data": {
      "text/plain": [
       "(12543, 3)"
      ]
     },
     "execution_count": 270,
     "metadata": {},
     "output_type": "execute_result"
    }
   ],
   "source": [
    "df.shape"
   ]
  },
  {
   "cell_type": "code",
   "execution_count": 258,
   "id": "99aab109-e657-44c5-9c8d-8326589b2512",
   "metadata": {},
   "outputs": [
    {
     "name": "stdout",
     "output_type": "stream",
     "text": [
      "{0->1,1->2,1->3,1->4,1->7,1->29,6->5,7->6,7->8,7->18,8->9,8->10,8->11,8->12,8->13,8->15,15->14,18->16,18->17,18->21,21->19,21->20,21->23,21->24,21->28,23->22,28->25,28->26,28->27,}\n"
     ]
    }
   ],
   "source": [
    "print(graph)"
   ]
  },
  {
   "cell_type": "code",
   "execution_count": 246,
   "id": "e92ca166-c9bb-45e3-87a3-24ab80538f1c",
   "metadata": {},
   "outputs": [],
   "source": [
    "def view_states(sentence, states, targets):\n",
    "    idx_to_word = word_map(sentence)\n",
    "    for state, target in zip(states, targets):\n",
    "        stack, buffer, graph = state\n",
    "        stack_str = [idx_to_word[x] for x in stack.stack]\n",
    "        buffer_str = [idx_to_word[x] for x in buffer]\n",
    "        \n",
    "        print(stack_str, buffer_str, target)\n"
   ]
  },
  {
   "cell_type": "code",
   "execution_count": 261,
   "id": "cbc9f308-7485-4b5e-85b6-8442eaaabb4d",
   "metadata": {},
   "outputs": [
    {
     "name": "stdout",
     "output_type": "stream",
     "text": [
      "['root'] ['Al', '-', 'Zaman', ':', 'American', 'forces', 'killed', 'Shaikh', 'Abdullah', 'al', '-', 'Ani', ',', 'the', 'preacher', 'at', 'the', 'mosque', 'in', 'the', 'town', 'of', 'Qaim', ',', 'near', 'the', 'Syrian', 'border', '.'] shift\n",
      "['root', 'Al'] ['-', 'Zaman', ':', 'American', 'forces', 'killed', 'Shaikh', 'Abdullah', 'al', '-', 'Ani', ',', 'the', 'preacher', 'at', 'the', 'mosque', 'in', 'the', 'town', 'of', 'Qaim', ',', 'near', 'the', 'Syrian', 'border', '.'] shift\n",
      "['root', 'Al', '-'] ['Zaman', ':', 'American', 'forces', 'killed', 'Shaikh', 'Abdullah', 'al', '-', 'Ani', ',', 'the', 'preacher', 'at', 'the', 'mosque', 'in', 'the', 'town', 'of', 'Qaim', ',', 'near', 'the', 'Syrian', 'border', '.'] right-arc\n",
      "['root', 'Al'] ['Zaman', ':', 'American', 'forces', 'killed', 'Shaikh', 'Abdullah', 'al', '-', 'Ani', ',', 'the', 'preacher', 'at', 'the', 'mosque', 'in', 'the', 'town', 'of', 'Qaim', ',', 'near', 'the', 'Syrian', 'border', '.'] shift\n",
      "['root', 'Al', 'Zaman'] [':', 'American', 'forces', 'killed', 'Shaikh', 'Abdullah', 'al', '-', 'Ani', ',', 'the', 'preacher', 'at', 'the', 'mosque', 'in', 'the', 'town', 'of', 'Qaim', ',', 'near', 'the', 'Syrian', 'border', '.'] right-arc\n",
      "['root', 'Al'] [':', 'American', 'forces', 'killed', 'Shaikh', 'Abdullah', 'al', '-', 'Ani', ',', 'the', 'preacher', 'at', 'the', 'mosque', 'in', 'the', 'town', 'of', 'Qaim', ',', 'near', 'the', 'Syrian', 'border', '.'] shift\n",
      "['root', 'Al', ':'] ['American', 'forces', 'killed', 'Shaikh', 'Abdullah', 'al', '-', 'Ani', ',', 'the', 'preacher', 'at', 'the', 'mosque', 'in', 'the', 'town', 'of', 'Qaim', ',', 'near', 'the', 'Syrian', 'border', '.'] right-arc\n",
      "['root', 'Al'] ['American', 'forces', 'killed', 'Shaikh', 'Abdullah', 'al', '-', 'Ani', ',', 'the', 'preacher', 'at', 'the', 'mosque', 'in', 'the', 'town', 'of', 'Qaim', ',', 'near', 'the', 'Syrian', 'border', '.'] shift\n",
      "['root', 'Al', 'American'] ['forces', 'killed', 'Shaikh', 'Abdullah', 'al', '-', 'Ani', ',', 'the', 'preacher', 'at', 'the', 'mosque', 'in', 'the', 'town', 'of', 'Qaim', ',', 'near', 'the', 'Syrian', 'border', '.'] shift\n",
      "['root', 'Al', 'American', 'forces'] ['killed', 'Shaikh', 'Abdullah', 'al', '-', 'Ani', ',', 'the', 'preacher', 'at', 'the', 'mosque', 'in', 'the', 'town', 'of', 'Qaim', ',', 'near', 'the', 'Syrian', 'border', '.'] left-arc\n",
      "['root', 'Al', 'forces'] ['killed', 'Shaikh', 'Abdullah', 'al', '-', 'Ani', ',', 'the', 'preacher', 'at', 'the', 'mosque', 'in', 'the', 'town', 'of', 'Qaim', ',', 'near', 'the', 'Syrian', 'border', '.'] shift\n",
      "['root', 'Al', 'forces', 'killed'] ['Shaikh', 'Abdullah', 'al', '-', 'Ani', ',', 'the', 'preacher', 'at', 'the', 'mosque', 'in', 'the', 'town', 'of', 'Qaim', ',', 'near', 'the', 'Syrian', 'border', '.'] left-arc\n",
      "['root', 'Al', 'killed'] ['Shaikh', 'Abdullah', 'al', '-', 'Ani', ',', 'the', 'preacher', 'at', 'the', 'mosque', 'in', 'the', 'town', 'of', 'Qaim', ',', 'near', 'the', 'Syrian', 'border', '.'] shift\n",
      "['root', 'Al', 'killed', 'Shaikh'] ['Abdullah', 'al', '-', 'Ani', ',', 'the', 'preacher', 'at', 'the', 'mosque', 'in', 'the', 'town', 'of', 'Qaim', ',', 'near', 'the', 'Syrian', 'border', '.'] shift\n",
      "['root', 'Al', 'killed', 'Shaikh', 'Abdullah'] ['al', '-', 'Ani', ',', 'the', 'preacher', 'at', 'the', 'mosque', 'in', 'the', 'town', 'of', 'Qaim', ',', 'near', 'the', 'Syrian', 'border', '.'] right-arc\n",
      "['root', 'Al', 'killed', 'Shaikh'] ['al', '-', 'Ani', ',', 'the', 'preacher', 'at', 'the', 'mosque', 'in', 'the', 'town', 'of', 'Qaim', ',', 'near', 'the', 'Syrian', 'border', '.'] shift\n",
      "['root', 'Al', 'killed', 'Shaikh', 'al'] ['-', 'Ani', ',', 'the', 'preacher', 'at', 'the', 'mosque', 'in', 'the', 'town', 'of', 'Qaim', ',', 'near', 'the', 'Syrian', 'border', '.'] right-arc\n",
      "['root', 'Al', 'killed', 'Shaikh'] ['-', 'Ani', ',', 'the', 'preacher', 'at', 'the', 'mosque', 'in', 'the', 'town', 'of', 'Qaim', ',', 'near', 'the', 'Syrian', 'border', '.'] shift\n",
      "['root', 'Al', 'killed', 'Shaikh', '-'] ['Ani', ',', 'the', 'preacher', 'at', 'the', 'mosque', 'in', 'the', 'town', 'of', 'Qaim', ',', 'near', 'the', 'Syrian', 'border', '.'] right-arc\n",
      "['root', 'Al', 'killed', 'Shaikh'] ['Ani', ',', 'the', 'preacher', 'at', 'the', 'mosque', 'in', 'the', 'town', 'of', 'Qaim', ',', 'near', 'the', 'Syrian', 'border', '.'] shift\n",
      "['root', 'Al', 'killed', 'Shaikh', 'Ani'] [',', 'the', 'preacher', 'at', 'the', 'mosque', 'in', 'the', 'town', 'of', 'Qaim', ',', 'near', 'the', 'Syrian', 'border', '.'] right-arc\n",
      "['root', 'Al', 'killed', 'Shaikh'] [',', 'the', 'preacher', 'at', 'the', 'mosque', 'in', 'the', 'town', 'of', 'Qaim', ',', 'near', 'the', 'Syrian', 'border', '.'] shift\n",
      "['root', 'Al', 'killed', 'Shaikh', ','] ['the', 'preacher', 'at', 'the', 'mosque', 'in', 'the', 'town', 'of', 'Qaim', ',', 'near', 'the', 'Syrian', 'border', '.'] right-arc\n",
      "['root', 'Al', 'killed', 'Shaikh'] ['the', 'preacher', 'at', 'the', 'mosque', 'in', 'the', 'town', 'of', 'Qaim', ',', 'near', 'the', 'Syrian', 'border', '.'] shift\n",
      "['root', 'Al', 'killed', 'Shaikh', 'the'] ['preacher', 'at', 'the', 'mosque', 'in', 'the', 'town', 'of', 'Qaim', ',', 'near', 'the', 'Syrian', 'border', '.'] shift\n",
      "['root', 'Al', 'killed', 'Shaikh', 'the', 'preacher'] ['at', 'the', 'mosque', 'in', 'the', 'town', 'of', 'Qaim', ',', 'near', 'the', 'Syrian', 'border', '.'] left-arc\n",
      "['root', 'Al', 'killed', 'Shaikh', 'preacher'] ['at', 'the', 'mosque', 'in', 'the', 'town', 'of', 'Qaim', ',', 'near', 'the', 'Syrian', 'border', '.'] right-arc\n",
      "['root', 'Al', 'killed', 'Shaikh'] ['at', 'the', 'mosque', 'in', 'the', 'town', 'of', 'Qaim', ',', 'near', 'the', 'Syrian', 'border', '.'] right-arc\n",
      "['root', 'Al', 'killed'] ['at', 'the', 'mosque', 'in', 'the', 'town', 'of', 'Qaim', ',', 'near', 'the', 'Syrian', 'border', '.'] shift\n",
      "['root', 'Al', 'killed', 'at'] ['the', 'mosque', 'in', 'the', 'town', 'of', 'Qaim', ',', 'near', 'the', 'Syrian', 'border', '.'] shift\n",
      "['root', 'Al', 'killed', 'at', 'the'] ['mosque', 'in', 'the', 'town', 'of', 'Qaim', ',', 'near', 'the', 'Syrian', 'border', '.'] shift\n",
      "['root', 'Al', 'killed', 'at', 'the', 'mosque'] ['in', 'the', 'town', 'of', 'Qaim', ',', 'near', 'the', 'Syrian', 'border', '.'] left-arc\n",
      "['root', 'Al', 'killed', 'at', 'mosque'] ['in', 'the', 'town', 'of', 'Qaim', ',', 'near', 'the', 'Syrian', 'border', '.'] left-arc\n",
      "['root', 'Al', 'killed', 'mosque'] ['in', 'the', 'town', 'of', 'Qaim', ',', 'near', 'the', 'Syrian', 'border', '.'] shift\n",
      "['root', 'Al', 'killed', 'mosque', 'in'] ['the', 'town', 'of', 'Qaim', ',', 'near', 'the', 'Syrian', 'border', '.'] shift\n",
      "['root', 'Al', 'killed', 'mosque', 'in', 'the'] ['town', 'of', 'Qaim', ',', 'near', 'the', 'Syrian', 'border', '.'] shift\n",
      "['root', 'Al', 'killed', 'mosque', 'in', 'the', 'town'] ['of', 'Qaim', ',', 'near', 'the', 'Syrian', 'border', '.'] left-arc\n",
      "['root', 'Al', 'killed', 'mosque', 'in', 'town'] ['of', 'Qaim', ',', 'near', 'the', 'Syrian', 'border', '.'] left-arc\n",
      "['root', 'Al', 'killed', 'mosque', 'town'] ['of', 'Qaim', ',', 'near', 'the', 'Syrian', 'border', '.'] shift\n",
      "['root', 'Al', 'killed', 'mosque', 'town', 'of'] ['Qaim', ',', 'near', 'the', 'Syrian', 'border', '.'] shift\n",
      "['root', 'Al', 'killed', 'mosque', 'town', 'of', 'Qaim'] [',', 'near', 'the', 'Syrian', 'border', '.'] left-arc\n",
      "['root', 'Al', 'killed', 'mosque', 'town', 'Qaim'] [',', 'near', 'the', 'Syrian', 'border', '.'] right-arc\n",
      "['root', 'Al', 'killed', 'mosque', 'town'] [',', 'near', 'the', 'Syrian', 'border', '.'] shift\n",
      "['root', 'Al', 'killed', 'mosque', 'town', ','] ['near', 'the', 'Syrian', 'border', '.'] right-arc\n",
      "['root', 'Al', 'killed', 'mosque', 'town'] ['near', 'the', 'Syrian', 'border', '.'] shift\n",
      "['root', 'Al', 'killed', 'mosque', 'town', 'near'] ['the', 'Syrian', 'border', '.'] shift\n",
      "['root', 'Al', 'killed', 'mosque', 'town', 'near', 'the'] ['Syrian', 'border', '.'] shift\n",
      "['root', 'Al', 'killed', 'mosque', 'town', 'near', 'the', 'Syrian'] ['border', '.'] shift\n",
      "['root', 'Al', 'killed', 'mosque', 'town', 'near', 'the', 'Syrian', 'border'] ['.'] left-arc\n",
      "['root', 'Al', 'killed', 'mosque', 'town', 'near', 'the', 'border'] ['.'] left-arc\n",
      "['root', 'Al', 'killed', 'mosque', 'town', 'near', 'border'] ['.'] left-arc\n",
      "['root', 'Al', 'killed', 'mosque', 'town', 'border'] ['.'] right-arc\n",
      "['root', 'Al', 'killed', 'mosque', 'town'] ['.'] right-arc\n",
      "['root', 'Al', 'killed', 'mosque'] ['.'] right-arc\n",
      "['root', 'Al', 'killed'] ['.'] right-arc\n",
      "['root', 'Al'] ['.'] shift\n",
      "['root', 'Al', '.'] [] right-arc\n",
      "['root', 'Al'] [] right-arc\n",
      "['root'] [] done\n"
     ]
    }
   ],
   "source": [
    "view_states(df.iloc[0]['sentence'], train_states, train_targets)"
   ]
  },
  {
   "cell_type": "code",
   "execution_count": null,
   "id": "c285c41a-cf03-42fb-8c2f-4b71ffc983ee",
   "metadata": {},
   "outputs": [],
   "source": []
  },
  {
   "cell_type": "code",
   "execution_count": null,
   "id": "38e5c86f-407e-4981-9ea0-9ad74d0f853c",
   "metadata": {},
   "outputs": [],
   "source": []
  },
  {
   "cell_type": "code",
   "execution_count": null,
   "id": "ca5b5cf7-8483-4178-b28b-c196e3d0b337",
   "metadata": {},
   "outputs": [],
   "source": []
  },
  {
   "cell_type": "code",
   "execution_count": null,
   "id": "2e609499-dc82-4d4e-b027-58cb28c95acc",
   "metadata": {},
   "outputs": [],
   "source": []
  },
  {
   "cell_type": "code",
   "execution_count": null,
   "id": "71383194-0fb8-4046-9106-bc246957bbde",
   "metadata": {},
   "outputs": [],
   "source": []
  },
  {
   "cell_type": "code",
   "execution_count": null,
   "id": "aaf9edaa-1d59-43fb-acc9-c11452d6bcae",
   "metadata": {},
   "outputs": [],
   "source": []
  },
  {
   "cell_type": "code",
   "execution_count": 11,
   "id": "e7003954-027b-4b39-bf54-46844b4b81b5",
   "metadata": {},
   "outputs": [],
   "source": [
    "class Oracle:\n",
    "    def __init__(self, context):\n",
    "        self.context = context\n",
    "    \n",
    "        self.seq = ['shift', 'shift', 'shift', 'arc-right', 'arc-left', 'shift']\n",
    "        self.idx = 0\n",
    "    \n",
    "    def query(self, stack):\n",
    "        action = self.seq[self.idx]\n",
    "        self.idx += 1\n",
    "        return action\n"
   ]
  },
  {
   "cell_type": "code",
   "execution_count": 12,
   "id": "fafab138-8231-4265-87c7-6b79943a265e",
   "metadata": {},
   "outputs": [],
   "source": [
    "oracle = Oracle(None)\n"
   ]
  },
  {
   "cell_type": "code",
   "execution_count": null,
   "id": "bd53dd7d-03d0-4893-89f9-bd35e669229d",
   "metadata": {},
   "outputs": [],
   "source": [
    "# # def apply_action\n",
    "# #word_list\n",
    "# #stack\n",
    "\n",
    "# parse = [] # or a nxn adj matrix\n",
    "\n",
    "\n",
    "# if action == 'shift':\n",
    "#     token = word_list.pop()\n",
    "#     stack.add(token)\n",
    "    \n",
    "# elif action == 'left-arc':\n",
    "#     parent = stack.view1()\n",
    "#     child = stack.pop2()\n",
    "\n",
    "# elif action == 'right-arc':\n",
    "#     parent = stack.view2()\n",
    "#     child = stack.pop1()\n",
    "    \n",
    "#     # parent -> child\n",
    "    \n",
    "    "
   ]
  },
  {
   "cell_type": "code",
   "execution_count": null,
   "id": "82880550-651d-46c1-a6ea-24429740f318",
   "metadata": {},
   "outputs": [],
   "source": []
  },
  {
   "cell_type": "code",
   "execution_count": null,
   "id": "5be7b3bd-2eed-46bc-9cb4-231cbd3852d2",
   "metadata": {},
   "outputs": [],
   "source": [
    "# class LabeledRelation:\n",
    "    \n",
    "#     if relation == 'left-arc'\n",
    "#         ('left-arc', 'nobj')\n",
    "#     if relation == 'shift':\n",
    "#         ('shift', None)"
   ]
  },
  {
   "cell_type": "code",
   "execution_count": null,
   "id": "42613ca2-fe0b-4b76-9991-9f392897f184",
   "metadata": {},
   "outputs": [],
   "source": []
  }
 ],
 "metadata": {
  "kernelspec": {
   "display_name": "Python 3.9.13 64-bit",
   "language": "python",
   "name": "python3"
  },
  "language_info": {
   "codemirror_mode": {
    "name": "ipython",
    "version": 3
   },
   "file_extension": ".py",
   "mimetype": "text/x-python",
   "name": "python",
   "nbconvert_exporter": "python",
   "pygments_lexer": "ipython3",
   "version": "3.9.13"
  },
  "vscode": {
   "interpreter": {
    "hash": "b0fa6594d8f4cbf19f97940f81e996739fb7646882a419484c72d19e05852a7e"
   }
  }
 },
 "nbformat": 4,
 "nbformat_minor": 5
}
