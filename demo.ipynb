{
 "cells": [
  {
   "cell_type": "code",
   "execution_count": 1,
   "id": "eecb61ca-77d8-4a91-8a4e-0f0e42e6864e",
   "metadata": {},
   "outputs": [],
   "source": [
    "import numpy as np\n",
    "import pandas as pd\n",
    "\n",
    "\n",
    "with open('en_ewt-ud-train.conllu') as f:\n",
    "    lines = f.readlines()\n",
    "    \n",
    "with open('en_ewt-ud-dev.conllu') as f:\n",
    "    lines_dev = f.readlines()\n"
   ]
  },
  {
   "cell_type": "code",
   "execution_count": 40,
   "id": "12efecc4-3f2c-455a-893e-91cf7979440f",
   "metadata": {},
   "outputs": [],
   "source": [
    "def read_syntax_tree(lines):\n",
    "    sentences = []\n",
    "    heads = []\n",
    "    deprels = []\n",
    "    \n",
    "    count_word = False\n",
    "    for l in lines:\n",
    "        if l[:6] == '# text':\n",
    "            count_word = True\n",
    "            sentence = []\n",
    "            head = []\n",
    "            deprel = []\n",
    "        elif count_word:\n",
    "            if l[0] != '\\n':\n",
    "                cells = l.split('\\t')\n",
    "                \n",
    "                # skip inferred words that are not part of the original sentence\n",
    "                if '.1' in cells[0]:\n",
    "                    continue\n",
    "                    \n",
    "                sentence.append(cells[1])\n",
    "                head.append(int(cells[6]))\n",
    "                deprel.append(cells[7])\n",
    "            else:\n",
    "                count_word = False\n",
    "                sentences.append(sentence)\n",
    "                heads.append(head)\n",
    "                deprels.append(deprel)\n",
    "        else:\n",
    "            continue\n",
    "    return pd.DataFrame({'sentence': sentences, 'head': heads, 'deprel': deprels})\n",
    "\n",
    "df = read_syntax_tree(lines)\n",
    "            "
   ]
  },
  {
   "cell_type": "code",
   "execution_count": 101,
   "id": "116f6afd-6882-454c-9386-5e9c7ab9a3db",
   "metadata": {},
   "outputs": [],
   "source": [
    "class TwoStack:\n",
    "    def __init__(self):\n",
    "        self.stack = ['root']\n",
    "        \n",
    "    def add(self, x):\n",
    "        self.stack.append(x)\n",
    "        \n",
    "    def view1(self):\n",
    "        if len(self.stack) == 0:\n",
    "            return None\n",
    "        return self.stack[-1]\n",
    "    \n",
    "    def view2(self):\n",
    "        if len(self.stack) <= 1:\n",
    "            return None\n",
    "        return self.stack[-2]\n",
    "    \n",
    "    def pop1(self):\n",
    "        if len(self.stack) == 0:\n",
    "            return None\n",
    "        return self.stack.pop(-1)\n",
    "        \n",
    "    def pop2(self):\n",
    "        if len(self.stack) <= 1:\n",
    "            return None\n",
    "        return self.stack.pop(-2)\n",
    "\n",
    "    def __bool__(self):\n",
    "        return len(self.stack) > 0\n",
    "\n",
    "\n",
    "class RelationGraph:\n",
    "    def __init__(self, sentence, head, deprel):\n",
    "        self.sentence = sentence\n",
    "        self.head = head\n",
    "        self.deprel = deprel\n",
    "        \n",
    "        # lookup for deprel entry to matrix value\n",
    "        self.dep_to_idx = {\n",
    "            dep: i for i, dep in enumerate(set(deprel))\n",
    "        }\n",
    "        # lookup for matrix value to deprel type\n",
    "        self.idx_to_dep = {\n",
    "            v: k for k, v in self.dep_to_idx.items()\n",
    "        }\n",
    "\n",
    "        n = len(sentence)\n",
    "        self.mat = np.zeros((n + 1, n + 1))        # 0th entry is root\n",
    "        for child, parent in enumerate(head):\n",
    "            self.mat[parent, child + 1] = self.dep_to_idx[deprel[child]]     \n",
    "    \n",
    "    def contains(self, from_idx, to_idx):\n",
    "        return self.mat[from_idx, to_idx] > 0\n",
    "    \n",
    "    def get_children(self, idx):\n",
    "        return list(np.where(self.mat[idx] > 0)[0])\n",
    "    \n",
    "    def get_parent(self, idx):\n",
    "        return np.where(self.mat[:, idx] > 0)[0][0]\n",
    "    \n",
    "    def get_word(self, idx):\n",
    "        return self.sentence[idx]\n",
    "    "
   ]
  },
  {
   "cell_type": "code",
   "execution_count": 81,
   "id": "28f71f3a-af45-480b-8236-28fb45ce3100",
   "metadata": {},
   "outputs": [],
   "source": [
    "rg = RelationGraph(df.iloc[2]['sentence'], df.iloc[2]['head'], df.iloc[2]['deprel'])"
   ]
  },
  {
   "cell_type": "code",
   "execution_count": 82,
   "id": "180507a7-27f9-4ae4-988a-ab88dc610cd7",
   "metadata": {},
   "outputs": [
    {
     "data": {
      "text/plain": [
       "{'acl': 0,\n",
       " 'aux': 1,\n",
       " 'ccomp': 2,\n",
       " 'case': 3,\n",
       " 'amod': 4,\n",
       " 'mark': 5,\n",
       " 'obj': 6,\n",
       " 'root': 7,\n",
       " 'obl': 8,\n",
       " 'parataxis': 9,\n",
       " 'nsubj': 10,\n",
       " 'punct': 11,\n",
       " 'nummod': 12,\n",
       " 'compound:prt': 13}"
      ]
     },
     "execution_count": 82,
     "metadata": {},
     "output_type": "execute_result"
    }
   ],
   "source": [
    "rg.dep_to_idx"
   ]
  },
  {
   "cell_type": "code",
   "execution_count": 83,
   "id": "e320304f-dbaf-4a71-9b51-b29c2f5d5c99",
   "metadata": {},
   "outputs": [
    {
     "data": {
      "text/plain": [
       "[0, 1, 4, 5, 1, 9, 9, 9, 5, 9, 13, 13, 9, 13, 16, 14, 1]"
      ]
     },
     "execution_count": 83,
     "metadata": {},
     "output_type": "execute_result"
    }
   ],
   "source": [
    "df.iloc[2]['head']"
   ]
  },
  {
   "cell_type": "code",
   "execution_count": 97,
   "id": "715a4ce0-0071-4012-ade5-3c1f64e1a388",
   "metadata": {},
   "outputs": [
    {
     "data": {
      "text/plain": [
       "'DPA'"
      ]
     },
     "execution_count": 97,
     "metadata": {},
     "output_type": "execute_result"
    }
   ],
   "source": [
    "rg.get_children(5)\n",
    "rg.get_word(0)"
   ]
  },
  {
   "cell_type": "code",
   "execution_count": 102,
   "id": "98255f60-758c-4bcd-a70f-97fbd52f8c82",
   "metadata": {},
   "outputs": [],
   "source": []
  },
  {
   "cell_type": "code",
   "execution_count": null,
   "id": "c8a09366-b301-43da-8172-b1034dcabe0d",
   "metadata": {},
   "outputs": [],
   "source": []
  },
  {
   "cell_type": "code",
   "execution_count": null,
   "id": "3885bead-daf6-4845-a2aa-8e1caee1796b",
   "metadata": {},
   "outputs": [],
   "source": []
  },
  {
   "cell_type": "code",
   "execution_count": null,
   "id": "3991312b-6447-4803-9f82-52297eb519df",
   "metadata": {},
   "outputs": [],
   "source": [
    "stack = TwoStack()\n",
    "word_list = df.iloc[0]['sentence']\n",
    "graph = RelationGraph(df.iloc[0]['sentence'], df.iloc[0]['head'], df.iloc[0]['deprel'])\n",
    "\n",
    "# state = (stack, word_list, graph)\n",
    "\n",
    "# unravel sentence\n",
    "\n",
    "# make train set\n",
    "\n",
    "# sentence    [Al, -, Zaman, :, American, forces, killed, Sh...\n",
    "# head        [0, 1, 1, 1, 6, 7, 1, 7, 8, 8, 8, 8, 8, 15, 8,...\n",
    "# deprel      [root, punct, flat, punct, amod, nsubj, parata...\n",
    "import copy\n",
    "\n",
    "train_states = []\n",
    "train_targets = []\n",
    "\n",
    "\n",
    "# while stack:\n",
    "stack.add(word_list.pop())\n",
    "\n",
    "state = (copy.copy(stack), word_list, graph)\n",
    "\n",
    "\n",
    "# check for left-arc\n",
    "if graph.contains(stack.view1(), stack.view2()):\n",
    "    train_targets.append('left-arc')\n",
    "    \n",
    "    \n",
    "# check for right-arc\n",
    "    \n",
    "# else shift\n",
    "\n"
   ]
  },
  {
   "cell_type": "code",
   "execution_count": null,
   "id": "c285c41a-cf03-42fb-8c2f-4b71ffc983ee",
   "metadata": {},
   "outputs": [],
   "source": []
  },
  {
   "cell_type": "code",
   "execution_count": null,
   "id": "38e5c86f-407e-4981-9ea0-9ad74d0f853c",
   "metadata": {},
   "outputs": [],
   "source": []
  },
  {
   "cell_type": "code",
   "execution_count": null,
   "id": "ca5b5cf7-8483-4178-b28b-c196e3d0b337",
   "metadata": {},
   "outputs": [],
   "source": []
  },
  {
   "cell_type": "code",
   "execution_count": 8,
   "id": "2e609499-dc82-4d4e-b027-58cb28c95acc",
   "metadata": {},
   "outputs": [
    {
     "data": {
      "text/plain": [
       "sentence    [Al, -, Zaman, :, American, forces, killed, Sh...\n",
       "head        [0, 1, 1, 1, 6, 7, 1, 7, 8, 8, 8, 8, 8, 15, 8,...\n",
       "deprel      [root, punct, flat, punct, amod, nsubj, parata...\n",
       "Name: 0, dtype: object"
      ]
     },
     "execution_count": 8,
     "metadata": {},
     "output_type": "execute_result"
    }
   ],
   "source": [
    "tmp = df.iloc[0]\n",
    "tmp"
   ]
  },
  {
   "cell_type": "code",
   "execution_count": null,
   "id": "71383194-0fb8-4046-9106-bc246957bbde",
   "metadata": {},
   "outputs": [],
   "source": []
  },
  {
   "cell_type": "code",
   "execution_count": 10,
   "id": "aaf9edaa-1d59-43fb-acc9-c11452d6bcae",
   "metadata": {},
   "outputs": [],
   "source": [
    "# tmp['sentence']"
   ]
  },
  {
   "cell_type": "code",
   "execution_count": 11,
   "id": "e7003954-027b-4b39-bf54-46844b4b81b5",
   "metadata": {},
   "outputs": [],
   "source": [
    "class Oracle:\n",
    "    def __init__(self, context):\n",
    "        self.context = context\n",
    "    \n",
    "        self.seq = ['shift', 'shift', 'shift', 'arc-right', 'arc-left', 'shift']\n",
    "        self.idx = 0\n",
    "    \n",
    "    def query(self, stack):\n",
    "        action = self.seq[self.idx]\n",
    "        self.idx += 1\n",
    "        return action\n"
   ]
  },
  {
   "cell_type": "code",
   "execution_count": 12,
   "id": "fafab138-8231-4265-87c7-6b79943a265e",
   "metadata": {},
   "outputs": [],
   "source": [
    "oracle = Oracle(None)\n"
   ]
  },
  {
   "cell_type": "code",
   "execution_count": null,
   "id": "bd53dd7d-03d0-4893-89f9-bd35e669229d",
   "metadata": {},
   "outputs": [],
   "source": [
    "# def apply_action\n",
    "#word_list\n",
    "#stack\n",
    "\n",
    "parse = [] # or a nxn adj matrix\n",
    "\n",
    "\n",
    "if action == 'shift':\n",
    "    token = word_list.pop()\n",
    "    stack.add(token)\n",
    "    \n",
    "elif action == 'left-arc':\n",
    "    parent = stack.view1()\n",
    "    child = stack.pop2()\n",
    "\n",
    "elif action == 'right-arc':\n",
    "    parent = stack.view2()\n",
    "    child = stack.pop1()\n",
    "    \n",
    "    # parent -> child\n",
    "    \n",
    "    "
   ]
  },
  {
   "cell_type": "code",
   "execution_count": null,
   "id": "82880550-651d-46c1-a6ea-24429740f318",
   "metadata": {},
   "outputs": [],
   "source": [
    "class RunState:\n",
    "    self.stack \n",
    "    \n",
    "    self.list\n",
    "    \n",
    "    self.parse\n",
    "    \n",
    "    # def __init__"
   ]
  },
  {
   "cell_type": "code",
   "execution_count": null,
   "id": "5be7b3bd-2eed-46bc-9cb4-231cbd3852d2",
   "metadata": {},
   "outputs": [],
   "source": [
    "class LabeledRelation:\n",
    "    \n",
    "    if relation == 'left-arc'\n",
    "        ('left-arc', 'nobj')\n",
    "    if relation == 'shift':\n",
    "        ('shift', None)"
   ]
  },
  {
   "cell_type": "code",
   "execution_count": null,
   "id": "42613ca2-fe0b-4b76-9991-9f392897f184",
   "metadata": {},
   "outputs": [],
   "source": []
  }
 ],
 "metadata": {
  "kernelspec": {
   "display_name": "Python 3 (ipykernel)",
   "language": "python",
   "name": "python3"
  },
  "language_info": {
   "codemirror_mode": {
    "name": "ipython",
    "version": 3
   },
   "file_extension": ".py",
   "mimetype": "text/x-python",
   "name": "python",
   "nbconvert_exporter": "python",
   "pygments_lexer": "ipython3",
   "version": "3.8.12"
  }
 },
 "nbformat": 4,
 "nbformat_minor": 5
}
