{
 "cells": [
  {
   "cell_type": "code",
   "execution_count": 1,
   "id": "eecb61ca-77d8-4a91-8a4e-0f0e42e6864e",
   "metadata": {},
   "outputs": [],
   "source": [
    "import numpy as np\n",
    "import pandas as pd\n",
    "\n",
    "\n",
    "with open('en_ewt-ud-train.conllu') as f:\n",
    "    lines = f.readlines()\n",
    "    \n",
    "with open('en_ewt-ud-dev.conllu') as f:\n",
    "    lines_dev = f.readlines()\n"
   ]
  },
  {
   "cell_type": "code",
   "execution_count": 40,
   "id": "12efecc4-3f2c-455a-893e-91cf7979440f",
   "metadata": {},
   "outputs": [],
   "source": [
    "def read_syntax_tree(lines):\n",
    "    sentences = []\n",
    "    heads = []\n",
    "    deprels = []\n",
    "    \n",
    "    count_word = False\n",
    "    for l in lines:\n",
    "        if l[:6] == '# text':\n",
    "            count_word = True\n",
    "            sentence = []\n",
    "            head = []\n",
    "            deprel = []\n",
    "        elif count_word:\n",
    "            if l[0] != '\\n':\n",
    "                cells = l.split('\\t')\n",
    "                \n",
    "                # skip inferred words not part of the original sentence\n",
    "                if '.1' in cells[0]:\n",
    "                    continue\n",
    "                    \n",
    "                sentence.append(cells[1])\n",
    "                head.append(int(cells[6]))\n",
    "                deprel.append(cells[7])\n",
    "            else:\n",
    "                count_word = False\n",
    "                sentences.append(sentence)\n",
    "                heads.append(head)\n",
    "                deprels.append(deprel)\n",
    "        else:\n",
    "            continue\n",
    "    return pd.DataFrame({'sentence': sentences, 'head': heads, 'deprel': deprels})\n",
    "\n",
    "df = read_syntax_tree(lines)\n",
    "            "
   ]
  },
  {
   "cell_type": "code",
   "execution_count": 206,
   "id": "116f6afd-6882-454c-9386-5e9c7ab9a3db",
   "metadata": {},
   "outputs": [],
   "source": [
    "class TwoStack:\n",
    "    def __init__(self):\n",
    "        self.stack = []\n",
    "        \n",
    "    def add(self, x):\n",
    "        self.stack.append(x)\n",
    "        \n",
    "    def view1(self):\n",
    "        if len(self.stack) == 0:\n",
    "            return None\n",
    "        return self.stack[-1]\n",
    "    \n",
    "    def view2(self):\n",
    "        if len(self.stack) <= 1:\n",
    "            return None\n",
    "        return self.stack[-2]\n",
    "    \n",
    "    def pop1(self):\n",
    "        if len(self.stack) == 0:\n",
    "            return None\n",
    "        return self.stack.pop(-1)\n",
    "        \n",
    "    def pop2(self):\n",
    "        if len(self.stack) <= 1:\n",
    "            return None\n",
    "        return self.stack.pop(-2)\n",
    "\n",
    "    def __bool__(self):\n",
    "        return len(self.stack) > 0\n",
    "\n",
    "    def __len__(self):\n",
    "        return len(self.stack)\n",
    "    \n",
    "    def __str__(self):\n",
    "        return self.stack.__str__()\n",
    "\n",
    "\n",
    "class RelationGraph:\n",
    "    def __init__(self, n):\n",
    "        self.mat = np.zeros((n + 1, n + 1))\n",
    "        self.dep_to_idx = {}\n",
    "        self.idx_to_dep = {}\n",
    "        self.true_graph = False\n",
    "        \n",
    "    def set_true_labels(self, head, deprel):\n",
    "        # this is temorary: eventually have a universal lookup\n",
    "        # from training set for consistency\n",
    "\n",
    "        # lookup for deprel entry to matrix value\n",
    "        self.dep_to_idx = {\n",
    "            dep: i for i, dep in enumerate(set(deprel))\n",
    "        }\n",
    "        # lookup for matrix value to deprel type\n",
    "        self.idx_to_dep = {\n",
    "            v: k for k, v in self.dep_to_idx.items()\n",
    "        }\n",
    "\n",
    "        for child, parent in enumerate(head):\n",
    "            # self.mat[parent, child + 1] = self.dep_to_idx[deprel[child]]\n",
    "            self.mat[parent, child + 1] = 1\n",
    "            \n",
    "        self.true_graph = True\n",
    "    \n",
    "    def add_relation(self, from_idx, to_idx, deprel=1):\n",
    "        if self.true_graph:\n",
    "            raise Exception('Cannot modify true labeled graph')\n",
    "        self.mat[from_idx, to_idx] = deprel\n",
    "    \n",
    "    def contains(self, from_idx, to_idx):\n",
    "        return self.mat[from_idx, to_idx] > 0\n",
    "    \n",
    "    def get_children(self, idx):\n",
    "        return list(np.where(self.mat[idx] > 0)[0])\n",
    "    \n",
    "    def get_parent(self, idx):\n",
    "        return np.where(self.mat[:, idx] > 0)[0][0]\n",
    "    \n",
    "    def __str__(self):\n",
    "        out = '{'\n",
    "        for a, b in zip(*np.where(self.mat > 0)):\n",
    "            out += f'{a}->{b},'\n",
    "        out += '}'\n",
    "        return out\n"
   ]
  },
  {
   "cell_type": "code",
   "execution_count": null,
   "id": "28f71f3a-af45-480b-8236-28fb45ce3100",
   "metadata": {},
   "outputs": [],
   "source": []
  },
  {
   "cell_type": "code",
   "execution_count": null,
   "id": "180507a7-27f9-4ae4-988a-ab88dc610cd7",
   "metadata": {},
   "outputs": [],
   "source": []
  },
  {
   "cell_type": "code",
   "execution_count": 208,
   "id": "b1f6e478-aadf-4ed9-98f9-d606cec3bde4",
   "metadata": {},
   "outputs": [
    {
     "data": {
      "text/plain": [
       "{0: 'root', 1: 'book', 2: 'me', 3: 'the', 4: 'morning', 5: 'flight'}"
      ]
     },
     "execution_count": 208,
     "metadata": {},
     "output_type": "execute_result"
    }
   ],
   "source": [
    "def word_map(sentence):\n",
    "    idx_to_word = {0: 'root'}\n",
    "    for i, word in enumerate(sentence):\n",
    "        idx_to_word[i + 1] = word\n",
    "    return idx_to_word\n",
    "\n",
    "word_map(sentence)"
   ]
  },
  {
   "cell_type": "code",
   "execution_count": 209,
   "id": "3885bead-daf6-4845-a2aa-8e1caee1796b",
   "metadata": {},
   "outputs": [],
   "source": [
    "import copy"
   ]
  },
  {
   "cell_type": "code",
   "execution_count": 210,
   "id": "41550325-6fdd-4e82-8ab2-2042bf3d781a",
   "metadata": {},
   "outputs": [],
   "source": [
    "# example from SLP3 textbook chapter 14\n",
    "\n",
    "sentence = ['book', 'me', 'the', 'morning', 'flight']\n",
    "# sentence = ['book', 'the', 'flight', 'through', 'houston']\n",
    "\n",
    "head = [0, 1, 5, 5, 1]\n",
    "\n",
    "deprel = [1, 1, 1, 1, 1]\n",
    "\n",
    "target = ['shift', 'shift', 'right-arc', 'shift', 'shift', 'shift', 'left-arc', 'left-arc', 'right-arc', 'right-arc']"
   ]
  },
  {
   "cell_type": "code",
   "execution_count": null,
   "id": "fcbec6e3-a4e5-4652-b22f-b5711a55ecd2",
   "metadata": {},
   "outputs": [],
   "source": []
  },
  {
   "cell_type": "code",
   "execution_count": null,
   "id": "505089f3-def9-4fdd-9c3c-29dd77fe3448",
   "metadata": {},
   "outputs": [],
   "source": []
  },
  {
   "cell_type": "code",
   "execution_count": 244,
   "id": "3991312b-6447-4803-9f82-52297eb519df",
   "metadata": {},
   "outputs": [],
   "source": [
    "\n",
    "def unravel_sentence(sentence, head, deprel):\n",
    "\n",
    "    true_graph = RelationGraph(len(sentence))\n",
    "    true_graph.set_true_labels(head, deprel)\n",
    "\n",
    "    stack = TwoStack()\n",
    "    word_list = [x + 1 for x in range(len(sentence))]\n",
    "    graph = RelationGraph(len(sentence))\n",
    "\n",
    "    idx_to_word = word_map(sentence)\n",
    "\n",
    "    train_states = []\n",
    "    train_targets = []\n",
    "\n",
    "    # add root and first token\n",
    "    stack.add(0)\n",
    "\n",
    "    while stack:\n",
    "        state = (copy.deepcopy(stack), copy.copy(word_list), copy.deepcopy(graph))\n",
    "\n",
    "        print(stack, word_list, graph)\n",
    "\n",
    "        if len(stack) == 1:\n",
    "            if len(word_list) > 0:\n",
    "                stack.add(word_list.pop(0))\n",
    "                target = 'shift'\n",
    "            else:\n",
    "                stack.pop1()\n",
    "                target = 'done'\n",
    "        else:\n",
    "            # check for left-arc\n",
    "            if true_graph.contains(stack.view1(), stack.view2()):\n",
    "                graph.add_relation(stack.view1(), stack.view2())\n",
    "                stack.pop2()\n",
    "                target = 'left-arc'\n",
    "\n",
    "            elif true_graph.contains(stack.view2(), stack.view1()) and \\\n",
    "                    all([graph.contains(stack.view1(), child) for child in true_graph.get_children(stack.view1())]):\n",
    "                graph.add_relation(stack.view2(), stack.view1())\n",
    "                stack.pop1()\n",
    "                target = 'right-arc'\n",
    "\n",
    "            else:\n",
    "                stack.add(word_list.pop(0))\n",
    "                target = 'shift'\n",
    "\n",
    "        train_states.append(state)\n",
    "        train_targets.append(target)\n"
   ]
  },
  {
   "cell_type": "code",
   "execution_count": 245,
   "id": "5b39f66f-1540-407c-9e32-9a13acfc658d",
   "metadata": {},
   "outputs": [
    {
     "name": "stdout",
     "output_type": "stream",
     "text": [
      "[0] [1, 2, 3, 4, 5] {}\n",
      "[0, 1] [2, 3, 4, 5] {}\n",
      "[0, 1, 2] [3, 4, 5] {}\n",
      "[0, 1] [3, 4, 5] {1->2,}\n",
      "[0, 1, 3] [4, 5] {1->2,}\n",
      "[0, 1, 3, 4] [5] {1->2,}\n",
      "[0, 1, 3, 4, 5] [] {1->2,}\n",
      "[0, 1, 3, 5] [] {1->2,5->4,}\n",
      "[0, 1, 5] [] {1->2,5->3,5->4,}\n",
      "[0, 1] [] {1->2,1->5,5->3,5->4,}\n",
      "[0] [] {0->1,1->2,1->5,5->3,5->4,}\n"
     ]
    }
   ],
   "source": [
    "unravel_sentence(sentence, head, deprel)"
   ]
  },
  {
   "cell_type": "code",
   "execution_count": null,
   "id": "49f5daa3-f032-400d-8235-a8766e5cd649",
   "metadata": {},
   "outputs": [],
   "source": []
  },
  {
   "cell_type": "code",
   "execution_count": null,
   "id": "99aab109-e657-44c5-9c8d-8326589b2512",
   "metadata": {},
   "outputs": [],
   "source": []
  },
  {
   "cell_type": "code",
   "execution_count": 246,
   "id": "e92ca166-c9bb-45e3-87a3-24ab80538f1c",
   "metadata": {},
   "outputs": [],
   "source": [
    "def view_states(sentence, states, targets):\n",
    "    idx_to_word = word_map(sentence)\n",
    "    for state, target in zip(states, targets):\n",
    "        stack, buffer, graph = state\n",
    "        stack_str = [idx_to_word[x] for x in stack.stack]\n",
    "        buffer_str = [idx_to_word[x] for x in buffer]\n",
    "        \n",
    "        print(stack_str, buffer_str, target)\n"
   ]
  },
  {
   "cell_type": "code",
   "execution_count": 247,
   "id": "cbc9f308-7485-4b5e-85b6-8442eaaabb4d",
   "metadata": {},
   "outputs": [
    {
     "name": "stdout",
     "output_type": "stream",
     "text": [
      "['root'] ['book', 'me', 'the', 'morning', 'flight'] shift\n",
      "['root', 'book'] ['me', 'the', 'morning', 'flight'] shift\n",
      "['root', 'book', 'me'] ['the', 'morning', 'flight'] right-arc\n",
      "['root', 'book'] ['the', 'morning', 'flight'] shift\n",
      "['root', 'book', 'the'] ['morning', 'flight'] shift\n",
      "['root', 'book', 'the', 'morning'] ['flight'] shift\n",
      "['root', 'book', 'the', 'morning', 'flight'] [] left-arc\n",
      "['root', 'book', 'the', 'flight'] [] left-arc\n",
      "['root', 'book', 'flight'] [] right-arc\n",
      "['root', 'book'] [] right-arc\n",
      "['root'] [] done\n"
     ]
    }
   ],
   "source": [
    "view_states(sentence, train_states, train_targets)"
   ]
  },
  {
   "cell_type": "code",
   "execution_count": null,
   "id": "c285c41a-cf03-42fb-8c2f-4b71ffc983ee",
   "metadata": {},
   "outputs": [],
   "source": []
  },
  {
   "cell_type": "code",
   "execution_count": null,
   "id": "38e5c86f-407e-4981-9ea0-9ad74d0f853c",
   "metadata": {},
   "outputs": [],
   "source": []
  },
  {
   "cell_type": "code",
   "execution_count": null,
   "id": "ca5b5cf7-8483-4178-b28b-c196e3d0b337",
   "metadata": {},
   "outputs": [],
   "source": []
  },
  {
   "cell_type": "code",
   "execution_count": null,
   "id": "2e609499-dc82-4d4e-b027-58cb28c95acc",
   "metadata": {},
   "outputs": [],
   "source": []
  },
  {
   "cell_type": "code",
   "execution_count": null,
   "id": "71383194-0fb8-4046-9106-bc246957bbde",
   "metadata": {},
   "outputs": [],
   "source": []
  },
  {
   "cell_type": "code",
   "execution_count": null,
   "id": "aaf9edaa-1d59-43fb-acc9-c11452d6bcae",
   "metadata": {},
   "outputs": [],
   "source": []
  },
  {
   "cell_type": "code",
   "execution_count": 11,
   "id": "e7003954-027b-4b39-bf54-46844b4b81b5",
   "metadata": {},
   "outputs": [],
   "source": [
    "class Oracle:\n",
    "    def __init__(self, context):\n",
    "        self.context = context\n",
    "    \n",
    "        self.seq = ['shift', 'shift', 'shift', 'arc-right', 'arc-left', 'shift']\n",
    "        self.idx = 0\n",
    "    \n",
    "    def query(self, stack):\n",
    "        action = self.seq[self.idx]\n",
    "        self.idx += 1\n",
    "        return action\n"
   ]
  },
  {
   "cell_type": "code",
   "execution_count": 12,
   "id": "fafab138-8231-4265-87c7-6b79943a265e",
   "metadata": {},
   "outputs": [],
   "source": [
    "oracle = Oracle(None)\n"
   ]
  },
  {
   "cell_type": "code",
   "execution_count": null,
   "id": "bd53dd7d-03d0-4893-89f9-bd35e669229d",
   "metadata": {},
   "outputs": [],
   "source": [
    "# # def apply_action\n",
    "# #word_list\n",
    "# #stack\n",
    "\n",
    "# parse = [] # or a nxn adj matrix\n",
    "\n",
    "\n",
    "# if action == 'shift':\n",
    "#     token = word_list.pop()\n",
    "#     stack.add(token)\n",
    "    \n",
    "# elif action == 'left-arc':\n",
    "#     parent = stack.view1()\n",
    "#     child = stack.pop2()\n",
    "\n",
    "# elif action == 'right-arc':\n",
    "#     parent = stack.view2()\n",
    "#     child = stack.pop1()\n",
    "    \n",
    "#     # parent -> child\n",
    "    \n",
    "    "
   ]
  },
  {
   "cell_type": "code",
   "execution_count": null,
   "id": "82880550-651d-46c1-a6ea-24429740f318",
   "metadata": {},
   "outputs": [],
   "source": []
  },
  {
   "cell_type": "code",
   "execution_count": null,
   "id": "5be7b3bd-2eed-46bc-9cb4-231cbd3852d2",
   "metadata": {},
   "outputs": [],
   "source": [
    "# class LabeledRelation:\n",
    "    \n",
    "#     if relation == 'left-arc'\n",
    "#         ('left-arc', 'nobj')\n",
    "#     if relation == 'shift':\n",
    "#         ('shift', None)"
   ]
  },
  {
   "cell_type": "code",
   "execution_count": null,
   "id": "42613ca2-fe0b-4b76-9991-9f392897f184",
   "metadata": {},
   "outputs": [],
   "source": []
  }
 ],
 "metadata": {
  "kernelspec": {
   "display_name": "Python 3 (ipykernel)",
   "language": "python",
   "name": "python3"
  },
  "language_info": {
   "codemirror_mode": {
    "name": "ipython",
    "version": 3
   },
   "file_extension": ".py",
   "mimetype": "text/x-python",
   "name": "python",
   "nbconvert_exporter": "python",
   "pygments_lexer": "ipython3",
   "version": "3.8.12"
  }
 },
 "nbformat": 4,
 "nbformat_minor": 5
}
